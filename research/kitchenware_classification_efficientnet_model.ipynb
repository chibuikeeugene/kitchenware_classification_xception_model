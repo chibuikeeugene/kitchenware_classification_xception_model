{
 "cells": [
  {
   "cell_type": "code",
   "execution_count": 1,
   "id": "7457e27b",
   "metadata": {
    "execution": {
     "iopub.execute_input": "2023-02-01T14:37:02.380312Z",
     "iopub.status.busy": "2023-02-01T14:37:02.379449Z",
     "iopub.status.idle": "2023-02-01T14:37:13.798304Z",
     "shell.execute_reply": "2023-02-01T14:37:13.797342Z"
    },
    "papermill": {
     "duration": 11.429288,
     "end_time": "2023-02-01T14:37:13.800869",
     "exception": false,
     "start_time": "2023-02-01T14:37:02.371581",
     "status": "completed"
    },
    "tags": []
   },
   "outputs": [],
   "source": [
    "import numpy as np\n",
    "import pandas as pd\n",
    "import matplotlib.pyplot as plt\n",
    "import seaborn as sns\n",
    "%matplotlib inline\n",
    "\n",
    "import tensorflow as tf\n",
    "from tensorflow import keras\n",
    "from tensorflow.keras.preprocessing.image import ImageDataGenerator\n",
    "\n",
    "import tensorflow_hub as hub\n",
    "from tensorflow.keras import layers\n",
    "\n",
    "import warnings\n",
    "warnings.filterwarnings('ignore')"
   ]
  },
  {
   "cell_type": "markdown",
   "id": "dbc567d3",
   "metadata": {
    "papermill": {
     "duration": 0.005259,
     "end_time": "2023-02-01T14:37:13.812157",
     "exception": false,
     "start_time": "2023-02-01T14:37:13.806898",
     "status": "completed"
    },
    "tags": []
   },
   "source": [
    "# Load Data File"
   ]
  },
  {
   "cell_type": "code",
   "execution_count": 2,
   "id": "075cf534",
   "metadata": {
    "execution": {
     "iopub.execute_input": "2023-02-01T14:37:13.825383Z",
     "iopub.status.busy": "2023-02-01T14:37:13.823730Z",
     "iopub.status.idle": "2023-02-01T14:37:13.887092Z",
     "shell.execute_reply": "2023-02-01T14:37:13.886015Z"
    },
    "papermill": {
     "duration": 0.072751,
     "end_time": "2023-02-01T14:37:13.890066",
     "exception": false,
     "start_time": "2023-02-01T14:37:13.817315",
     "status": "completed"
    },
    "tags": []
   },
   "outputs": [
    {
     "data": {
      "text/html": [
       "<div>\n",
       "<style scoped>\n",
       "    .dataframe tbody tr th:only-of-type {\n",
       "        vertical-align: middle;\n",
       "    }\n",
       "\n",
       "    .dataframe tbody tr th {\n",
       "        vertical-align: top;\n",
       "    }\n",
       "\n",
       "    .dataframe thead th {\n",
       "        text-align: right;\n",
       "    }\n",
       "</style>\n",
       "<table border=\"1\" class=\"dataframe\">\n",
       "  <thead>\n",
       "    <tr style=\"text-align: right;\">\n",
       "      <th></th>\n",
       "      <th>Id</th>\n",
       "      <th>label</th>\n",
       "      <th>filename</th>\n",
       "    </tr>\n",
       "  </thead>\n",
       "  <tbody>\n",
       "    <tr>\n",
       "      <th>0</th>\n",
       "      <td>0560</td>\n",
       "      <td>glass</td>\n",
       "      <td>0560.jpg</td>\n",
       "    </tr>\n",
       "    <tr>\n",
       "      <th>1</th>\n",
       "      <td>4675</td>\n",
       "      <td>cup</td>\n",
       "      <td>4675.jpg</td>\n",
       "    </tr>\n",
       "    <tr>\n",
       "      <th>2</th>\n",
       "      <td>0875</td>\n",
       "      <td>glass</td>\n",
       "      <td>0875.jpg</td>\n",
       "    </tr>\n",
       "    <tr>\n",
       "      <th>3</th>\n",
       "      <td>4436</td>\n",
       "      <td>spoon</td>\n",
       "      <td>4436.jpg</td>\n",
       "    </tr>\n",
       "    <tr>\n",
       "      <th>4</th>\n",
       "      <td>8265</td>\n",
       "      <td>plate</td>\n",
       "      <td>8265.jpg</td>\n",
       "    </tr>\n",
       "  </tbody>\n",
       "</table>\n",
       "</div>"
      ],
      "text/plain": [
       "     Id  label  filename\n",
       "0  0560  glass  0560.jpg\n",
       "1  4675    cup  4675.jpg\n",
       "2  0875  glass  0875.jpg\n",
       "3  4436  spoon  4436.jpg\n",
       "4  8265  plate  8265.jpg"
      ]
     },
     "execution_count": 2,
     "metadata": {},
     "output_type": "execute_result"
    }
   ],
   "source": [
    "train = pd.read_csv('../input/kitchenware-classification/train.csv', dtype={'Id': str})\n",
    "train['filename'] = train['Id'] + '.jpg'\n",
    "\n",
    "test = pd.read_csv('../input/kitchenware-classification/test.csv', dtype={'Id': str})\n",
    "test['filename'] =   test['Id'] + '.jpg'\n",
    "\n",
    "train.head()"
   ]
  },
  {
   "cell_type": "code",
   "execution_count": 3,
   "id": "98983c98",
   "metadata": {
    "execution": {
     "iopub.execute_input": "2023-02-01T14:37:13.903707Z",
     "iopub.status.busy": "2023-02-01T14:37:13.902809Z",
     "iopub.status.idle": "2023-02-01T14:37:13.919816Z",
     "shell.execute_reply": "2023-02-01T14:37:13.918735Z"
    },
    "papermill": {
     "duration": 0.026206,
     "end_time": "2023-02-01T14:37:13.922155",
     "exception": false,
     "start_time": "2023-02-01T14:37:13.895949",
     "status": "completed"
    },
    "tags": []
   },
   "outputs": [
    {
     "data": {
      "text/html": [
       "<div>\n",
       "<style scoped>\n",
       "    .dataframe tbody tr th:only-of-type {\n",
       "        vertical-align: middle;\n",
       "    }\n",
       "\n",
       "    .dataframe tbody tr th {\n",
       "        vertical-align: top;\n",
       "    }\n",
       "\n",
       "    .dataframe thead th {\n",
       "        text-align: right;\n",
       "    }\n",
       "</style>\n",
       "<table border=\"1\" class=\"dataframe\">\n",
       "  <thead>\n",
       "    <tr style=\"text-align: right;\">\n",
       "      <th></th>\n",
       "      <th>Id</th>\n",
       "      <th>label</th>\n",
       "      <th>filename</th>\n",
       "    </tr>\n",
       "  </thead>\n",
       "  <tbody>\n",
       "    <tr>\n",
       "      <th>0</th>\n",
       "      <td>0560</td>\n",
       "      <td>3</td>\n",
       "      <td>0560.jpg</td>\n",
       "    </tr>\n",
       "    <tr>\n",
       "      <th>1</th>\n",
       "      <td>4675</td>\n",
       "      <td>2</td>\n",
       "      <td>4675.jpg</td>\n",
       "    </tr>\n",
       "    <tr>\n",
       "      <th>2</th>\n",
       "      <td>0875</td>\n",
       "      <td>3</td>\n",
       "      <td>0875.jpg</td>\n",
       "    </tr>\n",
       "    <tr>\n",
       "      <th>3</th>\n",
       "      <td>4436</td>\n",
       "      <td>1</td>\n",
       "      <td>4436.jpg</td>\n",
       "    </tr>\n",
       "    <tr>\n",
       "      <th>4</th>\n",
       "      <td>8265</td>\n",
       "      <td>4</td>\n",
       "      <td>8265.jpg</td>\n",
       "    </tr>\n",
       "  </tbody>\n",
       "</table>\n",
       "</div>"
      ],
      "text/plain": [
       "     Id label  filename\n",
       "0  0560     3  0560.jpg\n",
       "1  4675     2  4675.jpg\n",
       "2  0875     3  0875.jpg\n",
       "3  4436     1  4436.jpg\n",
       "4  8265     4  8265.jpg"
      ]
     },
     "execution_count": 3,
     "metadata": {},
     "output_type": "execute_result"
    }
   ],
   "source": [
    "# target variable - encoding numeric value\n",
    "label_list = train['label'].tolist()\n",
    "label_numeric = {k:v+1 for v,k in enumerate(set(label_list))}\n",
    "y_train = [label_numeric[k] for k in label_list]     \n",
    "train['label'] = y_train\n",
    "train['label'] = train['label'].astype(str)\n",
    "train.head()"
   ]
  },
  {
   "cell_type": "code",
   "execution_count": 4,
   "id": "260bf24a",
   "metadata": {
    "execution": {
     "iopub.execute_input": "2023-02-01T14:37:13.935370Z",
     "iopub.status.busy": "2023-02-01T14:37:13.934496Z",
     "iopub.status.idle": "2023-02-01T14:37:13.941619Z",
     "shell.execute_reply": "2023-02-01T14:37:13.940456Z"
    },
    "papermill": {
     "duration": 0.016155,
     "end_time": "2023-02-01T14:37:13.943916",
     "exception": false,
     "start_time": "2023-02-01T14:37:13.927761",
     "status": "completed"
    },
    "tags": []
   },
   "outputs": [
    {
     "data": {
      "text/plain": [
       "{'spoon': 1, 'cup': 2, 'glass': 3, 'plate': 4, 'fork': 5, 'knife': 6}"
      ]
     },
     "execution_count": 4,
     "metadata": {},
     "output_type": "execute_result"
    }
   ],
   "source": [
    "label_numeric"
   ]
  },
  {
   "cell_type": "code",
   "execution_count": 5,
   "id": "afb8c926",
   "metadata": {
    "execution": {
     "iopub.execute_input": "2023-02-01T14:37:13.957882Z",
     "iopub.status.busy": "2023-02-01T14:37:13.957056Z",
     "iopub.status.idle": "2023-02-01T14:37:13.963320Z",
     "shell.execute_reply": "2023-02-01T14:37:13.962260Z"
    },
    "papermill": {
     "duration": 0.016006,
     "end_time": "2023-02-01T14:37:13.965871",
     "exception": false,
     "start_time": "2023-02-01T14:37:13.949865",
     "status": "completed"
    },
    "tags": []
   },
   "outputs": [
    {
     "name": "stdout",
     "output_type": "stream",
     "text": [
      "The train data has 5559 images \n",
      "The test data has 3808  images \n"
     ]
    }
   ],
   "source": [
    "print('The train data has {} images '.format(train.shape[0]))\n",
    "print('The test data has {}  images '.format(test.shape[0]))"
   ]
  },
  {
   "cell_type": "code",
   "execution_count": 6,
   "id": "a5bb25d3",
   "metadata": {
    "execution": {
     "iopub.execute_input": "2023-02-01T14:37:13.980598Z",
     "iopub.status.busy": "2023-02-01T14:37:13.979789Z",
     "iopub.status.idle": "2023-02-01T14:37:13.988555Z",
     "shell.execute_reply": "2023-02-01T14:37:13.987235Z"
    },
    "papermill": {
     "duration": 0.018246,
     "end_time": "2023-02-01T14:37:13.991137",
     "exception": false,
     "start_time": "2023-02-01T14:37:13.972891",
     "status": "completed"
    },
    "tags": []
   },
   "outputs": [
    {
     "name": "stdout",
     "output_type": "stream",
     "text": [
      "The train data has 6 unique labels\n"
     ]
    }
   ],
   "source": [
    "print('The train data has {} unique labels'.format(train['label'].nunique()))"
   ]
  },
  {
   "cell_type": "code",
   "execution_count": 7,
   "id": "06b8bc81",
   "metadata": {
    "execution": {
     "iopub.execute_input": "2023-02-01T14:37:14.004935Z",
     "iopub.status.busy": "2023-02-01T14:37:14.004277Z",
     "iopub.status.idle": "2023-02-01T14:37:14.255588Z",
     "shell.execute_reply": "2023-02-01T14:37:14.254671Z"
    },
    "papermill": {
     "duration": 0.260425,
     "end_time": "2023-02-01T14:37:14.257574",
     "exception": false,
     "start_time": "2023-02-01T14:37:13.997149",
     "status": "completed"
    },
    "tags": []
   },
   "outputs": [
    {
     "data": {
      "image/png": "[encoded data removed]",
      "text/plain": [
       "<Figure size 576x432 with 1 Axes>"
      ]
     },
     "metadata": {
      "needs_background": "light"
     },
     "output_type": "display_data"
    }
   ],
   "source": [
    "label_counts = train.label.value_counts()\n",
    "plt.figure(figsize = (8,6))\n",
    "sns.barplot(label_counts.index, label_counts.values, alpha = 0.9)\n",
    "plt.xticks(rotation = 'vertical')\n",
    "plt.xlabel('Image Class', fontsize =12)\n",
    "plt.ylabel('Counts', fontsize = 12)\n",
    "plt.show()"
   ]
  },
  {
   "cell_type": "code",
   "execution_count": 8,
   "id": "0b5f93d4",
   "metadata": {
    "execution": {
     "iopub.execute_input": "2023-02-01T14:37:14.273132Z",
     "iopub.status.busy": "2023-02-01T14:37:14.272535Z",
     "iopub.status.idle": "2023-02-01T14:37:14.279329Z",
     "shell.execute_reply": "2023-02-01T14:37:14.278495Z"
    },
    "papermill": {
     "duration": 0.017382,
     "end_time": "2023-02-01T14:37:14.281425",
     "exception": false,
     "start_time": "2023-02-01T14:37:14.264043",
     "status": "completed"
    },
    "tags": []
   },
   "outputs": [],
   "source": [
    "src_path_train = \"/kaggle/input/kitchenware-classification/images/\"\n",
    "src_path_test = \"/kaggle/input/kitchenware-classification/images/\"\n",
    "\n",
    "\n",
    "train_datagen = ImageDataGenerator(\n",
    "        rescale=1 / 255.0,\n",
    "        rotation_range=20,\n",
    "        zoom_range=0.05,\n",
    "        width_shift_range=0.05,\n",
    "        height_shift_range=0.05,\n",
    "        shear_range=0.05,\n",
    "        horizontal_flip=True,\n",
    "        fill_mode=\"nearest\",\n",
    "        validation_split=0.20)\n",
    "\n",
    "test_datagen = ImageDataGenerator(rescale=1 / 255.0)"
   ]
  },
  {
   "cell_type": "code",
   "execution_count": 9,
   "id": "ccdb6168",
   "metadata": {
    "execution": {
     "iopub.execute_input": "2023-02-01T14:37:14.294796Z",
     "iopub.status.busy": "2023-02-01T14:37:14.294191Z",
     "iopub.status.idle": "2023-02-01T14:37:42.870277Z",
     "shell.execute_reply": "2023-02-01T14:37:42.869112Z"
    },
    "papermill": {
     "duration": 28.585196,
     "end_time": "2023-02-01T14:37:42.872490",
     "exception": false,
     "start_time": "2023-02-01T14:37:14.287294",
     "status": "completed"
    },
    "tags": []
   },
   "outputs": [
    {
     "name": "stdout",
     "output_type": "stream",
     "text": [
      "Found 4448 validated image filenames belonging to 6 classes.\n",
      "Found 1111 validated image filenames belonging to 6 classes.\n"
     ]
    }
   ],
   "source": [
    "batch_size = 16\n",
    "IMAGE_SHAPE = (300, 300)\n",
    "\n",
    "train_generator = train_datagen.flow_from_dataframe(\n",
    "    dataframe=train,\n",
    "    directory=src_path_train,\n",
    "    x_col=\"filename\",\n",
    "    y_col=\"label\",\n",
    "    target_size=(300, 300),\n",
    "    batch_size=batch_size,\n",
    "    class_mode=\"categorical\",\n",
    "    subset='training',\n",
    "    shuffle=True,\n",
    "    seed=42\n",
    ")\n",
    "\n",
    "valid_generator = train_datagen.flow_from_dataframe(\n",
    "    dataframe=train,\n",
    "    directory=src_path_train,\n",
    "    x_col=\"filename\",\n",
    "    y_col=\"label\",\n",
    "    target_size=(300, 300),\n",
    "    batch_size=batch_size,\n",
    "    class_mode=\"categorical\",\n",
    "    subset='validation',\n",
    "    shuffle=True,\n",
    "    seed=42\n",
    ")\n"
   ]
  },
  {
   "cell_type": "code",
   "execution_count": 10,
   "id": "47ae6a7b",
   "metadata": {
    "execution": {
     "iopub.execute_input": "2023-02-01T14:37:42.887030Z",
     "iopub.status.busy": "2023-02-01T14:37:42.886058Z",
     "iopub.status.idle": "2023-02-01T14:37:58.158554Z",
     "shell.execute_reply": "2023-02-01T14:37:58.157117Z"
    },
    "papermill": {
     "duration": 15.282011,
     "end_time": "2023-02-01T14:37:58.160888",
     "exception": false,
     "start_time": "2023-02-01T14:37:42.878877",
     "status": "completed"
    },
    "tags": []
   },
   "outputs": [
    {
     "name": "stdout",
     "output_type": "stream",
     "text": [
      "Found 3808 validated image filenames.\n"
     ]
    }
   ],
   "source": [
    "test_generator = test_datagen.flow_from_dataframe(\n",
    "    dataframe=test,\n",
    "    directory=src_path_test,\n",
    "    x_col=\"filename\",\n",
    "    target_size=(300, 300),\n",
    "    batch_size=16,\n",
    "    class_mode=None,\n",
    "    shuffle=False,\n",
    ")"
   ]
  },
  {
   "cell_type": "markdown",
   "id": "e5a636f1",
   "metadata": {
    "papermill": {
     "duration": 0.006013,
     "end_time": "2023-02-01T14:37:58.173449",
     "exception": false,
     "start_time": "2023-02-01T14:37:58.167436",
     "status": "completed"
    },
    "tags": []
   },
   "source": [
    "# EfficientNet Model"
   ]
  },
  {
   "cell_type": "code",
   "execution_count": 11,
   "id": "a814cf26",
   "metadata": {
    "execution": {
     "iopub.execute_input": "2023-02-01T14:37:58.187031Z",
     "iopub.status.busy": "2023-02-01T14:37:58.186748Z",
     "iopub.status.idle": "2023-02-01T14:37:58.192695Z",
     "shell.execute_reply": "2023-02-01T14:37:58.191683Z"
    },
    "papermill": {
     "duration": 0.014899,
     "end_time": "2023-02-01T14:37:58.194623",
     "exception": false,
     "start_time": "2023-02-01T14:37:58.179724",
     "status": "completed"
    },
    "tags": []
   },
   "outputs": [],
   "source": [
    "# Original: EfficientNetB0 feature vector (version 1)\n",
    "efficientnet_url = \"https://tfhub.dev/tensorflow/efficientnet/b3/feature-vector/1\"\n",
    "\n",
    "def create_model(model_url, num_classes=6):\n",
    "    feature_extractor_layer = hub.KerasLayer(model_url,\n",
    "                                           trainable=False,                  # freeze the underlying patterns\n",
    "                                           name='feature_extraction_layer',\n",
    "                                           input_shape= IMAGE_SHAPE+(3,))    # define the input image shape\n",
    "  \n",
    "    # Create our own model\n",
    "    model = tf.keras.Sequential([\n",
    "        feature_extractor_layer,\n",
    "        layers.Dense(num_classes, activation='softmax', name='output_layer') # create our own output layer      \n",
    "      ])\n",
    "    return model"
   ]
  },
  {
   "cell_type": "code",
   "execution_count": 12,
   "id": "3472a848",
   "metadata": {
    "execution": {
     "iopub.execute_input": "2023-02-01T14:37:58.208930Z",
     "iopub.status.busy": "2023-02-01T14:37:58.208055Z",
     "iopub.status.idle": "2023-02-01T14:38:18.852710Z",
     "shell.execute_reply": "2023-02-01T14:38:18.851677Z"
    },
    "papermill": {
     "duration": 20.654638,
     "end_time": "2023-02-01T14:38:18.855660",
     "exception": false,
     "start_time": "2023-02-01T14:37:58.201022",
     "status": "completed"
    },
    "tags": []
   },
   "outputs": [
    {
     "name": "stderr",
     "output_type": "stream",
     "text": [
      "2023-02-01 14:37:59.754304: I tensorflow/stream_executor/cuda/cuda_gpu_executor.cc:937] successful NUMA node read from SysFS had negative value (-1), but there must be at least one NUMA node, so returning NUMA node zero\n",
      "2023-02-01 14:37:59.755306: I tensorflow/stream_executor/cuda/cuda_gpu_executor.cc:937] successful NUMA node read from SysFS had negative value (-1), but there must be at least one NUMA node, so returning NUMA node zero\n",
      "2023-02-01 14:37:59.945306: I tensorflow/stream_executor/cuda/cuda_gpu_executor.cc:937] successful NUMA node read from SysFS had negative value (-1), but there must be at least one NUMA node, so returning NUMA node zero\n",
      "2023-02-01 14:37:59.946264: I tensorflow/stream_executor/cuda/cuda_gpu_executor.cc:937] successful NUMA node read from SysFS had negative value (-1), but there must be at least one NUMA node, so returning NUMA node zero\n",
      "2023-02-01 14:37:59.947025: I tensorflow/stream_executor/cuda/cuda_gpu_executor.cc:937] successful NUMA node read from SysFS had negative value (-1), but there must be at least one NUMA node, so returning NUMA node zero\n",
      "2023-02-01 14:37:59.947778: I tensorflow/stream_executor/cuda/cuda_gpu_executor.cc:937] successful NUMA node read from SysFS had negative value (-1), but there must be at least one NUMA node, so returning NUMA node zero\n",
      "2023-02-01 14:37:59.949906: I tensorflow/core/platform/cpu_feature_guard.cc:142] This TensorFlow binary is optimized with oneAPI Deep Neural Network Library (oneDNN) to use the following CPU instructions in performance-critical operations:  AVX2 AVX512F FMA\n",
      "To enable them in other operations, rebuild TensorFlow with the appropriate compiler flags.\n",
      "2023-02-01 14:38:00.219433: I tensorflow/stream_executor/cuda/cuda_gpu_executor.cc:937] successful NUMA node read from SysFS had negative value (-1), but there must be at least one NUMA node, so returning NUMA node zero\n",
      "2023-02-01 14:38:00.220432: I tensorflow/stream_executor/cuda/cuda_gpu_executor.cc:937] successful NUMA node read from SysFS had negative value (-1), but there must be at least one NUMA node, so returning NUMA node zero\n",
      "2023-02-01 14:38:00.221229: I tensorflow/stream_executor/cuda/cuda_gpu_executor.cc:937] successful NUMA node read from SysFS had negative value (-1), but there must be at least one NUMA node, so returning NUMA node zero\n",
      "2023-02-01 14:38:00.221978: I tensorflow/stream_executor/cuda/cuda_gpu_executor.cc:937] successful NUMA node read from SysFS had negative value (-1), but there must be at least one NUMA node, so returning NUMA node zero\n",
      "2023-02-01 14:38:00.222679: I tensorflow/stream_executor/cuda/cuda_gpu_executor.cc:937] successful NUMA node read from SysFS had negative value (-1), but there must be at least one NUMA node, so returning NUMA node zero\n",
      "2023-02-01 14:38:00.223359: I tensorflow/stream_executor/cuda/cuda_gpu_executor.cc:937] successful NUMA node read from SysFS had negative value (-1), but there must be at least one NUMA node, so returning NUMA node zero\n",
      "2023-02-01 14:38:04.393446: I tensorflow/stream_executor/cuda/cuda_gpu_executor.cc:937] successful NUMA node read from SysFS had negative value (-1), but there must be at least one NUMA node, so returning NUMA node zero\n",
      "2023-02-01 14:38:04.394702: I tensorflow/stream_executor/cuda/cuda_gpu_executor.cc:937] successful NUMA node read from SysFS had negative value (-1), but there must be at least one NUMA node, so returning NUMA node zero\n",
      "2023-02-01 14:38:04.395852: I tensorflow/stream_executor/cuda/cuda_gpu_executor.cc:937] successful NUMA node read from SysFS had negative value (-1), but there must be at least one NUMA node, so returning NUMA node zero\n",
      "2023-02-01 14:38:04.396984: I tensorflow/stream_executor/cuda/cuda_gpu_executor.cc:937] successful NUMA node read from SysFS had negative value (-1), but there must be at least one NUMA node, so returning NUMA node zero\n",
      "2023-02-01 14:38:04.398017: I tensorflow/stream_executor/cuda/cuda_gpu_executor.cc:937] successful NUMA node read from SysFS had negative value (-1), but there must be at least one NUMA node, so returning NUMA node zero\n",
      "2023-02-01 14:38:04.399009: I tensorflow/core/common_runtime/gpu/gpu_device.cc:1510] Created device /job:localhost/replica:0/task:0/device:GPU:0 with 13789 MB memory:  -> device: 0, name: Tesla T4, pci bus id: 0000:00:04.0, compute capability: 7.5\n",
      "2023-02-01 14:38:04.405330: I tensorflow/stream_executor/cuda/cuda_gpu_executor.cc:937] successful NUMA node read from SysFS had negative value (-1), but there must be at least one NUMA node, so returning NUMA node zero\n",
      "2023-02-01 14:38:04.406421: I tensorflow/core/common_runtime/gpu/gpu_device.cc:1510] Created device /job:localhost/replica:0/task:0/device:GPU:1 with 13789 MB memory:  -> device: 1, name: Tesla T4, pci bus id: 0000:00:05.0, compute capability: 7.5\n"
     ]
    }
   ],
   "source": [
    "# Create model\n",
    "model = create_model(model_url=efficientnet_url,num_classes=6)\n",
    "\n",
    "# Compile EfficientNet model\n",
    "model.compile(loss='categorical_crossentropy',optimizer=tf.keras.optimizers.Adam(),metrics=['accuracy'])"
   ]
  },
  {
   "cell_type": "markdown",
   "id": "c8fdb110",
   "metadata": {
    "papermill": {
     "duration": 0.006693,
     "end_time": "2023-02-01T14:38:18.869795",
     "exception": false,
     "start_time": "2023-02-01T14:38:18.863102",
     "status": "completed"
    },
    "tags": []
   },
   "source": [
    "# Train The Model"
   ]
  },
  {
   "cell_type": "code",
   "execution_count": 13,
   "id": "5fdbfd9d",
   "metadata": {
    "execution": {
     "iopub.execute_input": "2023-02-01T14:38:18.884031Z",
     "iopub.status.busy": "2023-02-01T14:38:18.883728Z",
     "iopub.status.idle": "2023-02-01T14:55:58.807129Z",
     "shell.execute_reply": "2023-02-01T14:55:58.806001Z"
    },
    "papermill": {
     "duration": 1059.933599,
     "end_time": "2023-02-01T14:55:58.810004",
     "exception": false,
     "start_time": "2023-02-01T14:38:18.876405",
     "status": "completed"
    },
    "tags": []
   },
   "outputs": [
    {
     "name": "stderr",
     "output_type": "stream",
     "text": [
      "2023-02-01 14:38:19.703135: I tensorflow/compiler/mlir/mlir_graph_optimization_pass.cc:185] None of the MLIR Optimization Passes are enabled (registered 2)\n"
     ]
    },
    {
     "name": "stdout",
     "output_type": "stream",
     "text": [
      "Epoch 1/5\n"
     ]
    },
    {
     "name": "stderr",
     "output_type": "stream",
     "text": [
      "2023-02-01 14:38:35.057162: I tensorflow/stream_executor/cuda/cuda_dnn.cc:369] Loaded cuDNN version 8005\n"
     ]
    },
    {
     "name": "stdout",
     "output_type": "stream",
     "text": [
      "278/278 [==============================] - 271s 886ms/step - loss: 0.2946 - accuracy: 0.9272 - val_loss: 0.1345 - val_accuracy: 0.9604\n",
      "Epoch 2/5\n",
      "278/278 [==============================] - 189s 681ms/step - loss: 0.1260 - accuracy: 0.9609 - val_loss: 0.1167 - val_accuracy: 0.9622\n",
      "Epoch 3/5\n",
      "278/278 [==============================] - 191s 689ms/step - loss: 0.0969 - accuracy: 0.9710 - val_loss: 0.1145 - val_accuracy: 0.9631\n",
      "Epoch 4/5\n",
      "278/278 [==============================] - 189s 680ms/step - loss: 0.0843 - accuracy: 0.9759 - val_loss: 0.1253 - val_accuracy: 0.9568\n",
      "Epoch 5/5\n",
      "278/278 [==============================] - 191s 689ms/step - loss: 0.0740 - accuracy: 0.9777 - val_loss: 0.1105 - val_accuracy: 0.9658\n"
     ]
    }
   ],
   "source": [
    "# fit the model\n",
    "history = model.fit(train_generator,\n",
    "                    epochs=5,\n",
    "                    steps_per_epoch=len(train_generator),\n",
    "                    validation_data=valid_generator,  \n",
    "                    validation_steps=len(valid_generator)) "
   ]
  },
  {
   "cell_type": "markdown",
   "id": "ad795ce5",
   "metadata": {
    "papermill": {
     "duration": 0.077154,
     "end_time": "2023-02-01T14:55:58.965726",
     "exception": false,
     "start_time": "2023-02-01T14:55:58.888572",
     "status": "completed"
    },
    "tags": []
   },
   "source": [
    "# Accuracy and Loss"
   ]
  },
  {
   "cell_type": "code",
   "execution_count": 14,
   "id": "f49715bc",
   "metadata": {
    "execution": {
     "iopub.execute_input": "2023-02-01T14:55:59.175915Z",
     "iopub.status.busy": "2023-02-01T14:55:59.175555Z",
     "iopub.status.idle": "2023-02-01T14:55:59.375944Z",
     "shell.execute_reply": "2023-02-01T14:55:59.375038Z"
    },
    "papermill": {
     "duration": 0.280763,
     "end_time": "2023-02-01T14:55:59.377968",
     "exception": false,
     "start_time": "2023-02-01T14:55:59.097205",
     "status": "completed"
    },
    "tags": []
   },
   "outputs": [
    {
     "data": {
      "image/png": "[encoded data removed]",
      "text/plain": [
       "<Figure size 432x288 with 1 Axes>"
      ]
     },
     "metadata": {
      "needs_background": "light"
     },
     "output_type": "display_data"
    }
   ],
   "source": [
    "plt.plot(history.history['accuracy'])\n",
    "plt.plot(history.history['val_accuracy'])\n",
    "plt.show()"
   ]
  },
  {
   "cell_type": "code",
   "execution_count": 15,
   "id": "dca16383",
   "metadata": {
    "execution": {
     "iopub.execute_input": "2023-02-01T14:55:59.533844Z",
     "iopub.status.busy": "2023-02-01T14:55:59.533526Z",
     "iopub.status.idle": "2023-02-01T14:55:59.726415Z",
     "shell.execute_reply": "2023-02-01T14:55:59.725519Z"
    },
    "papermill": {
     "duration": 0.272987,
     "end_time": "2023-02-01T14:55:59.728444",
     "exception": false,
     "start_time": "2023-02-01T14:55:59.455457",
     "status": "completed"
    },
    "tags": []
   },
   "outputs": [
    {
     "data": {
      "image/png": "[encoded data removed]",
      "text/plain": [
       "<Figure size 432x288 with 1 Axes>"
      ]
     },
     "metadata": {
      "needs_background": "light"
     },
     "output_type": "display_data"
    }
   ],
   "source": [
    "# summarize history for loss\n",
    "plt.plot(history.history['loss'])\n",
    "plt.plot(history.history['val_loss'])\n",
    "plt.show()"
   ]
  },
  {
   "cell_type": "code",
   "execution_count": 16,
   "id": "9c0cfb85",
   "metadata": {
    "execution": {
     "iopub.execute_input": "2023-02-01T14:55:59.888914Z",
     "iopub.status.busy": "2023-02-01T14:55:59.888566Z",
     "iopub.status.idle": "2023-02-01T14:56:37.820652Z",
     "shell.execute_reply": "2023-02-01T14:56:37.819629Z"
    },
    "papermill": {
     "duration": 38.092996,
     "end_time": "2023-02-01T14:56:37.902055",
     "exception": false,
     "start_time": "2023-02-01T14:55:59.809059",
     "status": "completed"
    },
    "tags": []
   },
   "outputs": [
    {
     "name": "stdout",
     "output_type": "stream",
     "text": [
      "Test loss: 0.11011441051959991\n",
      "Test accuracy: 0.9576957821846008\n"
     ]
    }
   ],
   "source": [
    "score = model.evaluate_generator(valid_generator)\n",
    "\n",
    "print('Test loss:', score[0])\n",
    "print('Test accuracy:', score[1])"
   ]
  },
  {
   "cell_type": "markdown",
   "id": "c73389ba",
   "metadata": {
    "papermill": {
     "duration": 0.078262,
     "end_time": "2023-02-01T14:56:38.059422",
     "exception": false,
     "start_time": "2023-02-01T14:56:37.981160",
     "status": "completed"
    },
    "tags": []
   },
   "source": [
    "# Prediction on Test Data"
   ]
  },
  {
   "cell_type": "code",
   "execution_count": 17,
   "id": "4534d400",
   "metadata": {
    "execution": {
     "iopub.execute_input": "2023-02-01T14:56:38.214939Z",
     "iopub.status.busy": "2023-02-01T14:56:38.214585Z",
     "iopub.status.idle": "2023-02-01T14:58:15.926554Z",
     "shell.execute_reply": "2023-02-01T14:58:15.925554Z"
    },
    "papermill": {
     "duration": 97.792331,
     "end_time": "2023-02-01T14:58:15.929253",
     "exception": false,
     "start_time": "2023-02-01T14:56:38.136922",
     "status": "completed"
    },
    "tags": []
   },
   "outputs": [],
   "source": [
    "predict = model.predict_generator(test_generator, steps = len(test_generator.filenames))"
   ]
  },
  {
   "cell_type": "code",
   "execution_count": 18,
   "id": "8d6b4e2d",
   "metadata": {
    "execution": {
     "iopub.execute_input": "2023-02-01T14:58:16.108210Z",
     "iopub.status.busy": "2023-02-01T14:58:16.107044Z",
     "iopub.status.idle": "2023-02-01T14:58:16.115479Z",
     "shell.execute_reply": "2023-02-01T14:58:16.114374Z"
    },
    "papermill": {
     "duration": 0.103538,
     "end_time": "2023-02-01T14:58:16.117859",
     "exception": false,
     "start_time": "2023-02-01T14:58:16.014321",
     "status": "completed"
    },
    "tags": []
   },
   "outputs": [
    {
     "data": {
      "text/plain": [
       "array([[6.7240548e-01, 4.0530185e-03, 3.2043641e-03, 3.9144959e-03,\n",
       "        1.1053412e-02, 3.0536929e-01],\n",
       "       [4.9837636e-05, 9.4222087e-06, 7.9269284e-06, 6.1383562e-06,\n",
       "        3.3089137e-04, 9.9959582e-01],\n",
       "       [1.0438297e-02, 2.6333180e-05, 5.2151410e-04, 5.9813414e-05,\n",
       "        9.8012036e-01, 8.8336561e-03],\n",
       "       [4.2845263e-06, 1.8730176e-04, 1.8667798e-04, 9.9956316e-01,\n",
       "        3.7690425e-06, 5.4692147e-05],\n",
       "       [5.7482310e-03, 2.4418391e-06, 2.3433575e-05, 6.2318404e-06,\n",
       "        9.9412268e-01, 9.6919153e-05]], dtype=float32)"
      ]
     },
     "execution_count": 18,
     "metadata": {},
     "output_type": "execute_result"
    }
   ],
   "source": [
    "predict[:5]"
   ]
  },
  {
   "cell_type": "code",
   "execution_count": 19,
   "id": "21d19533",
   "metadata": {
    "execution": {
     "iopub.execute_input": "2023-02-01T14:58:16.285317Z",
     "iopub.status.busy": "2023-02-01T14:58:16.284453Z",
     "iopub.status.idle": "2023-02-01T14:58:16.291229Z",
     "shell.execute_reply": "2023-02-01T14:58:16.289935Z"
    },
    "papermill": {
     "duration": 0.091205,
     "end_time": "2023-02-01T14:58:16.293948",
     "exception": false,
     "start_time": "2023-02-01T14:58:16.202743",
     "status": "completed"
    },
    "tags": []
   },
   "outputs": [
    {
     "name": "stdout",
     "output_type": "stream",
     "text": [
      "[0 5 4 ... 0 4 0]\n"
     ]
    }
   ],
   "source": [
    "y_classes = predict.argmax(axis=-1)\n",
    "print(y_classes)"
   ]
  },
  {
   "cell_type": "code",
   "execution_count": 20,
   "id": "ec3bdd94",
   "metadata": {
    "execution": {
     "iopub.execute_input": "2023-02-01T14:58:16.456581Z",
     "iopub.status.busy": "2023-02-01T14:58:16.455757Z",
     "iopub.status.idle": "2023-02-01T14:58:16.464453Z",
     "shell.execute_reply": "2023-02-01T14:58:16.463442Z"
    },
    "papermill": {
     "duration": 0.092372,
     "end_time": "2023-02-01T14:58:16.466434",
     "exception": false,
     "start_time": "2023-02-01T14:58:16.374062",
     "status": "completed"
    },
    "tags": []
   },
   "outputs": [
    {
     "data": {
      "text/plain": [
       "['spoon', 'knife', 'fork', 'plate', 'fork']"
      ]
     },
     "execution_count": 20,
     "metadata": {},
     "output_type": "execute_result"
    }
   ],
   "source": [
    "rev_y = {v:k for k,v in label_numeric.items()}\n",
    "pred_labels = [rev_y[k+1] for k in y_classes]\n",
    "pred_labels[:5]"
   ]
  },
  {
   "cell_type": "code",
   "execution_count": 21,
   "id": "3eebaebf",
   "metadata": {
    "execution": {
     "iopub.execute_input": "2023-02-01T14:58:16.624953Z",
     "iopub.status.busy": "2023-02-01T14:58:16.624638Z",
     "iopub.status.idle": "2023-02-01T14:58:16.636947Z",
     "shell.execute_reply": "2023-02-01T14:58:16.636018Z"
    },
    "papermill": {
     "duration": 0.094839,
     "end_time": "2023-02-01T14:58:16.639359",
     "exception": false,
     "start_time": "2023-02-01T14:58:16.544520",
     "status": "completed"
    },
    "tags": []
   },
   "outputs": [],
   "source": [
    "# make submission\n",
    "submission = pd.DataFrame({'id':test['Id'], 'label':pred_labels})\n",
    "submission.to_csv('submission1.csv', index=False)"
   ]
  },
  {
   "cell_type": "code",
   "execution_count": 22,
   "id": "1d385d21",
   "metadata": {
    "execution": {
     "iopub.execute_input": "2023-02-01T14:58:16.806461Z",
     "iopub.status.busy": "2023-02-01T14:58:16.805382Z",
     "iopub.status.idle": "2023-02-01T14:58:16.815664Z",
     "shell.execute_reply": "2023-02-01T14:58:16.814640Z"
    },
    "papermill": {
     "duration": 0.094175,
     "end_time": "2023-02-01T14:58:16.818073",
     "exception": false,
     "start_time": "2023-02-01T14:58:16.723898",
     "status": "completed"
    },
    "tags": []
   },
   "outputs": [
    {
     "data": {
      "text/html": [
       "<div>\n",
       "<style scoped>\n",
       "    .dataframe tbody tr th:only-of-type {\n",
       "        vertical-align: middle;\n",
       "    }\n",
       "\n",
       "    .dataframe tbody tr th {\n",
       "        vertical-align: top;\n",
       "    }\n",
       "\n",
       "    .dataframe thead th {\n",
       "        text-align: right;\n",
       "    }\n",
       "</style>\n",
       "<table border=\"1\" class=\"dataframe\">\n",
       "  <thead>\n",
       "    <tr style=\"text-align: right;\">\n",
       "      <th></th>\n",
       "      <th>id</th>\n",
       "      <th>label</th>\n",
       "    </tr>\n",
       "  </thead>\n",
       "  <tbody>\n",
       "    <tr>\n",
       "      <th>0</th>\n",
       "      <td>0678</td>\n",
       "      <td>spoon</td>\n",
       "    </tr>\n",
       "    <tr>\n",
       "      <th>1</th>\n",
       "      <td>3962</td>\n",
       "      <td>knife</td>\n",
       "    </tr>\n",
       "    <tr>\n",
       "      <th>2</th>\n",
       "      <td>9271</td>\n",
       "      <td>fork</td>\n",
       "    </tr>\n",
       "    <tr>\n",
       "      <th>3</th>\n",
       "      <td>5133</td>\n",
       "      <td>plate</td>\n",
       "    </tr>\n",
       "    <tr>\n",
       "      <th>4</th>\n",
       "      <td>8842</td>\n",
       "      <td>fork</td>\n",
       "    </tr>\n",
       "  </tbody>\n",
       "</table>\n",
       "</div>"
      ],
      "text/plain": [
       "     id  label\n",
       "0  0678  spoon\n",
       "1  3962  knife\n",
       "2  9271   fork\n",
       "3  5133  plate\n",
       "4  8842   fork"
      ]
     },
     "execution_count": 22,
     "metadata": {},
     "output_type": "execute_result"
    }
   ],
   "source": [
    "submission.head()"
   ]
  }
 ],
 "metadata": {
  "kernelspec": {
   "display_name": "Python 3",
   "language": "python",
   "name": "python3"
  },
  "language_info": {
   "codemirror_mode": {
    "name": "ipython",
    "version": 3
   },
   "file_extension": ".py",
   "mimetype": "text/x-python",
   "name": "python",
   "nbconvert_exporter": "python",
   "pygments_lexer": "ipython3",
   "version": "3.7.12"
  },
  "papermill": {
   "default_parameters": {},
   "duration": 1288.641863,
   "end_time": "2023-02-01T14:58:20.189238",
   "environment_variables": {},
   "exception": null,
   "input_path": "__notebook__.ipynb",
   "output_path": "__notebook__.ipynb",
   "parameters": {},
   "start_time": "2023-02-01T14:36:51.547375",
   "version": "2.3.4"
  }
 },
 "nbformat": 4,
 "nbformat_minor": 5
}
